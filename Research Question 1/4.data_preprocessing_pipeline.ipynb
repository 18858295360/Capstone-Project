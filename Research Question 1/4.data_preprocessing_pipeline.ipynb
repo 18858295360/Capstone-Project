{
 "cells": [
  {
   "cell_type": "code",
   "execution_count": 1,
   "id": "initial_id",
   "metadata": {},
   "outputs": [
    {
     "name": "stdout",
     "output_type": "stream",
     "text": [
      "Initial data shape: (2938748, 18)\n",
      "Shape after filtering first ICU admissions: (20044, 18)\n",
      "Shape after removing abnormal age records: (20044, 18)\n",
      "Shape after handling extreme values: (20044, 18)\n",
      "\n",
      "Distribution of the target variable (expire_flag):\n",
      "expire_flag\n",
      "0    11985\n",
      "1     8059\n",
      "Name: count, dtype: int64\n",
      "The final cleaned dataset has been exported to /root/DATA/cleaned_final_dataset.csv\n"
     ]
    }
   ],
   "source": [
    "import pandas as pd\n",
    "\n",
    "# 1. Load the data\n",
    "filtered_data = pd.read_csv('/root/DATA/final_selected_clinical_variables.csv', low_memory=False)\n",
    "print(f\"Initial data shape: {filtered_data.shape}\")\n",
    "\n",
    "# 2. Filter for the first ICU admission record per patient\n",
    "filtered_data = (\n",
    "    filtered_data.sort_values('icustay_id')\n",
    "    .groupby('subject_id')\n",
    "    .first()\n",
    "    .reset_index()\n",
    ")\n",
    "print(f\"Shape after filtering first ICU admissions: {filtered_data.shape}\")\n",
    "\n",
    "# 3. Remove invalid or abnormal samples\n",
    "# Assume 'age_years' is valid only within the range 0-120 years\n",
    "filtered_data = filtered_data[(filtered_data['age_years'] >= 0) & (filtered_data['age_years'] <= 120)]\n",
    "print(f\"Shape after removing abnormal age records: {filtered_data.shape}\")\n",
    "\n",
    "# 4. Handle extreme values: cap numerical variables at 1st and 99th percentiles\n",
    "def cap_extreme_values(df, column):\n",
    "    lower_bound = df[column].quantile(0.01)\n",
    "    upper_bound = df[column].quantile(0.99)\n",
    "    df[column] = df[column].clip(lower=lower_bound, upper=upper_bound)\n",
    "\n",
    "numerical_cols = [\n",
    "    'systolic_bp', 'diastolic_bp', 'mean_bp', 'resp_rate', 'heart_rate',\n",
    "    'temperature', 'spo2', 'glucose', 'creatinine', 'bloodureanitrogen',\n",
    "    'lactate', 'whitebloodcell', 'platelets', 'bilirubin', 'albumin'\n",
    "]\n",
    "\n",
    "for col in numerical_cols:\n",
    "    if col in filtered_data.columns:\n",
    "        cap_extreme_values(filtered_data, col)\n",
    "\n",
    "print(f\"Shape after handling extreme values: {filtered_data.shape}\")\n",
    "\n",
    "# 5. Check the distribution of the target variable (expire_flag)\n",
    "print(\"\\nDistribution of the target variable (expire_flag):\")\n",
    "print(filtered_data['expire_flag'].value_counts())\n",
    "\n",
    "# 6. Export the cleaned dataset to a CSV file\n",
    "output_path = '/root/DATA/cleaned_final_dataset.csv'\n",
    "filtered_data.to_csv(output_path, index=False)\n",
    "print(f\"The final cleaned dataset has been exported to {output_path}\")\n"
   ]
  }
 ],
 "metadata": {
  "kernelspec": {
   "display_name": "Python 3 (ipykernel)",
   "language": "python",
   "name": "python3"
  },
  "language_info": {
   "codemirror_mode": {
    "name": "ipython",
    "version": 3
   },
   "file_extension": ".py",
   "mimetype": "text/x-python",
   "name": "python",
   "nbconvert_exporter": "python",
   "pygments_lexer": "ipython3",
   "version": "3.12.3"
  }
 },
 "nbformat": 4,
 "nbformat_minor": 5
}
