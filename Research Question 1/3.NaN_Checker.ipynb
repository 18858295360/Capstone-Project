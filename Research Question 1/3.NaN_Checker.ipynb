{
 "cells": [
  {
   "cell_type": "code",
   "execution_count": 1,
   "id": "initial_id",
   "metadata": {},
   "outputs": [
    {
     "name": "stdout",
     "output_type": "stream",
     "text": [
      "NaN Value Statistics:\n",
      "Series([], dtype: int64)\n",
      "There are no remaining NaN values in the dataset.\n",
      "Columns in the dataset:\n",
      "Index(['icustay_id', 'subject_id', 'hadm_id', 'age_years', 'expire_flag',\n",
      "       'glucose', 'gcseyes', 'gcsmotor', 'gcsverbal', 'creatinine',\n",
      "       'bloodureanitrogen', 'lactate', 'whitebloodcell', 'platelets',\n",
      "       'bilirubin', 'albumin', 'admission_type', 'admission_location'],\n",
      "      dtype='object')\n"
     ]
    }
   ],
   "source": [
    "import pandas as pd\n",
    "\n",
    "# 1. Load the filtered data\n",
    "data = pd.read_csv('/root/DATA/final_selected_clinical_variables.csv')\n",
    "\n",
    "# 2. Check the number of NaN values in each column\n",
    "nan_summary = data.isna().sum()\n",
    "\n",
    "# 3. Print statistics of columns with NaN values\n",
    "print(\"NaN Value Statistics:\")\n",
    "print(nan_summary[nan_summary > 0])  # Display only columns with NaN values\n",
    "\n",
    "# 4. Check if there are any remaining NaN values\n",
    "total_nan = nan_summary.sum()\n",
    "if total_nan == 0:\n",
    "    print(\"There are no remaining NaN values in the dataset.\")\n",
    "else:\n",
    "    print(f\"There are still {total_nan} NaN values that need to be addressed.\")\n",
    "\n",
    "# Reload the data to ensure no unintended modifications\n",
    "data = pd.read_csv('/root/DATA/final_selected_clinical_variables.csv')\n",
    "\n",
    "# Print all column names in the dataset\n",
    "print(\"Columns in the dataset:\")\n",
    "print(data.columns)\n"
   ]
  }
 ],
 "metadata": {
  "kernelspec": {
   "display_name": "Python 3 (ipykernel)",
   "language": "python",
   "name": "python3"
  },
  "language_info": {
   "codemirror_mode": {
    "name": "ipython",
    "version": 3
   },
   "file_extension": ".py",
   "mimetype": "text/x-python",
   "name": "python",
   "nbconvert_exporter": "python",
   "pygments_lexer": "ipython3",
   "version": "3.12.3"
  }
 },
 "nbformat": 4,
 "nbformat_minor": 5
}
