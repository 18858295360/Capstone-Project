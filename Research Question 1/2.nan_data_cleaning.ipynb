{
 "cells": [
  {
   "cell_type": "code",
   "execution_count": 2,
   "id": "initial_id",
   "metadata": {},
   "outputs": [
    {
     "name": "stdout",
     "output_type": "stream",
     "text": [
      "Loaded merged_data shape: (2938748, 82)\n",
      "Shape after initial filtering: (2938748, 18)\n",
      "NaN statistics after processing:\n",
      "icustay_id            0\n",
      "subject_id            0\n",
      "hadm_id               0\n",
      "age_years             0\n",
      "expire_flag           0\n",
      "glucose               0\n",
      "gcseyes               0\n",
      "gcsmotor              0\n",
      "gcsverbal             0\n",
      "creatinine            0\n",
      "bloodureanitrogen     0\n",
      "lactate               0\n",
      "whitebloodcell        0\n",
      "platelets             0\n",
      "bilirubin             0\n",
      "albumin               0\n",
      "admission_type        0\n",
      "admission_location    0\n",
      "dtype: int64\n",
      "The processed data has been exported to /root/DATA/final_selected_clinical_variables.csv\n"
     ]
    }
   ],
   "source": [
    "import pandas as pd\n",
    "\n",
    "# 1. Load the data\n",
    "merged_data = pd.read_csv('/root/DATA/filtered_merged_data.csv', low_memory=False)\n",
    "print(f\"Loaded merged_data shape: {merged_data.shape}\")\n",
    "\n",
    "# 2. Initial filtering of variables (removing irrelevant columns)\n",
    "columns_to_keep = [\n",
    "    'icustay_id', 'subject_id', 'hadm_id', 'age_years', 'expire_flag',\n",
    "    'systolic_bp', 'diastolic_bp', 'mean_bp', 'resp_rate',\n",
    "    'heart_rate', 'temperature', 'spo2', 'glucose',\n",
    "    'gcseyes', 'gcsmotor', 'gcsverbal', 'creatinine', 'bloodureanitrogen',\n",
    "    'lactate', 'whitebloodcell', 'platelets', 'bilirubin', 'albumin',\n",
    "    'admission_type', 'admission_location'\n",
    "]\n",
    "\n",
    "# 3. Select only available columns in the dataset\n",
    "available_columns = [col for col in columns_to_keep if col in merged_data.columns]\n",
    "filtered_data = merged_data[available_columns].copy()  # Use copy to avoid chained assignment warning\n",
    "print(f\"Shape after initial filtering: {filtered_data.shape}\")\n",
    "\n",
    "# 4. Fill NaN values with reasonable defaults\n",
    "for col in ['gcseyes', 'gcsmotor', 'gcsverbal']:\n",
    "    if col in filtered_data.columns:\n",
    "        filtered_data.loc[:, col] = filtered_data[col].fillna(0)  # GCS scores: fill NaNs with 0\n",
    "\n",
    "numerical_cols = [\n",
    "    'systolic_bp', 'diastolic_bp', 'mean_bp', 'resp_rate', 'heart_rate',\n",
    "    'temperature', 'spo2', 'glucose', 'creatinine', 'bloodureanitrogen',\n",
    "    'lactate', 'whitebloodcell', 'platelets', 'bilirubin', 'albumin'\n",
    "]\n",
    "for col in numerical_cols:\n",
    "    if col in filtered_data.columns:\n",
    "        # Fill NaNs in numerical columns with the median value of the column\n",
    "        filtered_data.loc[:, col] = filtered_data[col].fillna(filtered_data[col].median())\n",
    "\n",
    "# Fill categorical variables with 'Unknown'\n",
    "for col in ['admission_type', 'admission_location']:\n",
    "    if col in filtered_data.columns:\n",
    "        filtered_data.loc[:, col] = filtered_data[col].fillna('Unknown')\n",
    "\n",
    "# 5. Check the statistics of NaN values after processing\n",
    "print(\"NaN statistics after processing:\")\n",
    "print(filtered_data.isna().sum())\n",
    "\n",
    "# 6. Export the processed data to a CSV file\n",
    "output_path = '/root/DATA/final_selected_clinical_variables.csv'\n",
    "filtered_data.to_csv(output_path, index=False)\n",
    "print(f\"The processed data has been exported to {output_path}\")\n"
   ]
  }
 ],
 "metadata": {
  "kernelspec": {
   "display_name": "Python 3 (ipykernel)",
   "language": "python",
   "name": "python3"
  },
  "language_info": {
   "codemirror_mode": {
    "name": "ipython",
    "version": 3
   },
   "file_extension": ".py",
   "mimetype": "text/x-python",
   "name": "python",
   "nbconvert_exporter": "python",
   "pygments_lexer": "ipython3",
   "version": "3.12.3"
  }
 },
 "nbformat": 4,
 "nbformat_minor": 5
}
