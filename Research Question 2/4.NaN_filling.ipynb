{
 "cells": [
  {
   "cell_type": "code",
   "execution_count": 1,
   "id": "initial_id",
   "metadata": {},
   "outputs": [
    {
     "name": "stdout",
     "output_type": "stream",
     "text": [
      "Initial NaN Value Statistics:\n",
      "gcsmotor         75\n",
      "lactate       15812\n",
      "hemoglobin     9493\n",
      "albumin       18060\n",
      "gcsverbal        67\n",
      "dtype: int64\n",
      "\n",
      "NaN Value Statistics After Filling:\n",
      "Series([], dtype: int64)\n",
      "\n",
      "Final dataset shape: (20101, 21)\n",
      "\n",
      "Column names:\n",
      "['los_x', 'positiveculture', 'gcs', 'gcsmotor', 'lactate', 'bloodureanitrogen', 'hemoglobin', 'intnormalisedratio', 'albumin', 'chloride', 'hematocrit', 'age_years', 'insurance_Medicare', 'gcsverbal', 'admission_location_EMERGENCY ROOM ADMIT', 'admission_location_PHYS REFERRAL/NORMAL DELI', 'admission_location_CLINIC REFERRAL/PREMATURE', 'admission_location_TRANSFER FROM HOSP/EXTRAM', 'admission_type_URGENT', 'is_weekend_admission', 'expire_flag']\n",
      "\n",
      "The final data has been saved to /root/DATA/cleaned_final_cox_dataset.csv\n"
     ]
    }
   ],
   "source": [
    "import pandas as pd\n",
    "\n",
    "# Load the cleaned dataset\n",
    "data_path = '/root/DATA/cleaned_cox_dataset.csv'\n",
    "data = pd.read_csv(data_path)\n",
    "\n",
    "# Display initial NaN Value Statistics\n",
    "nan_summary = data.isna().sum()\n",
    "nan_summary = nan_summary[nan_summary > 0]\n",
    "print(\"Initial NaN Value Statistics:\")\n",
    "print(nan_summary)\n",
    "\n",
    "# Fill NaN values for specific columns with their median\n",
    "data['gcsmotor'] = data['gcsmotor'].fillna(data['gcsmotor'].median())\n",
    "data['lactate'] = data['lactate'].fillna(data['lactate'].median())\n",
    "data['hemoglobin'] = data['hemoglobin'].fillna(data['hemoglobin'].median())\n",
    "data['albumin'] = data['albumin'].fillna(data['albumin'].median())\n",
    "data['gcsverbal'] = data['gcsverbal'].fillna(data['gcsverbal'].median())\n",
    "\n",
    "# Re-check for remaining NaN values\n",
    "nan_summary = data.isna().sum()\n",
    "nan_summary = nan_summary[nan_summary > 0]\n",
    "print(\"\\nNaN Value Statistics After Filling:\")\n",
    "print(nan_summary)\n",
    "\n",
    "# Display the final shape and column names\n",
    "print(\"\\nFinal dataset shape:\", data.shape)\n",
    "print(\"\\nColumn names:\")\n",
    "print(data.columns.tolist())\n",
    "\n",
    "# Save the final cleaned dataset\n",
    "output_path = '/root/DATA/cleaned_final_cox_dataset.csv'\n",
    "data.to_csv(output_path, index=False)\n",
    "print(f\"\\nThe final data has been saved to {output_path}\")\n"
   ]
  }
 ],
 "metadata": {
  "kernelspec": {
   "display_name": "Python 3 (ipykernel)",
   "language": "python",
   "name": "python3"
  },
  "language_info": {
   "codemirror_mode": {
    "name": "ipython",
    "version": 3
   },
   "file_extension": ".py",
   "mimetype": "text/x-python",
   "name": "python",
   "nbconvert_exporter": "python",
   "pygments_lexer": "ipython3",
   "version": "3.12.3"
  }
 },
 "nbformat": 4,
 "nbformat_minor": 5
}
